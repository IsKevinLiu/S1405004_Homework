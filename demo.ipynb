{
 "cells": [
  {
   "metadata": {
    "ExecuteTime": {
     "end_time": "2024-06-02T12:59:32.802068Z",
     "start_time": "2024-06-02T12:59:32.782424Z"
    }
   },
   "cell_type": "code",
   "source": [
    "import numpy as np\n",
    "\n",
    "\n",
    "# 软阈值算子\n",
    "def soft_thresholding_operator(x, lambda_):\n",
    "    \"\"\"\n",
    "    实现软阈值算子\n",
    "    :param x: 输入向量或标量\n",
    "    :param lambda_: 阈值参数\n",
    "    :return: 软阈值处理后的结果\n",
    "    \"\"\"\n",
    "    return np.sign(x) * np.maximum(0, np.abs(x) - lambda_)\n",
    "\n",
    "\n",
    "# KKT停机准则\n",
    "def check_kkt(x, A, b, lambda_):\n",
    "    \"\"\"验证Lasso问题的解是否满足KKT条件\"\"\"\n",
    "    y = x + A.T @ (b - A @ x)\n",
    "    return np.linalg.norm(soft_thresholding_operator(y, lambda_) - x, ord=2) / (1 + np.linalg.norm(x, ord=2))\n"
   ],
   "id": "7fc9a790cd9fbc80",
   "outputs": [],
   "execution_count": 26
  },
  {
   "metadata": {},
   "cell_type": "markdown",
   "source": "# 近端梯度下降法求解Lasso回归问题",
   "id": "2fc5a2a69cb25936"
  },
  {
   "metadata": {
    "ExecuteTime": {
     "end_time": "2024-06-02T12:59:32.833235Z",
     "start_time": "2024-06-02T12:59:32.815497Z"
    }
   },
   "cell_type": "code",
   "source": [
    "def pgd_lasso(A, b, lambda_, max_iter=1000, tol=1e-5):\n",
    "    \"\"\"\n",
    "    使用近端梯度下降法求解Lasso回归问题\n",
    "    :param A: 特征矩阵\n",
    "    :param b: 目标向量\n",
    "    :param lambda_: L1正则化参数\n",
    "    :param max_iter: 最大迭代次数\n",
    "    :param tol: 收敛容限\n",
    "    :return: 求解得到的权重向量x\n",
    "    \"\"\"\n",
    "    # 初始化beta为零向量\n",
    "    x = np.zeros(A.shape[1])\n",
    "\n",
    "    # 计算梯度的Lipschitz常数\n",
    "    L = np.linalg.norm(A.T @ A)\n",
    "\n",
    "    res = []\n",
    "    # 迭代更新参数x\n",
    "    for _ in range(max_iter):\n",
    "        # 计算梯度\n",
    "        gradient = A.T @ (A @ x - b)\n",
    "\n",
    "        # 近端梯度更新\n",
    "        x_new = soft_thresholding_operator(x - gradient / L, lambda_ / L)\n",
    "\n",
    "        # 检查收敛性\n",
    "        res.append(check_kkt(x_new, A, b, lambda_))\n",
    "        if res[-1] <= tol:\n",
    "            return x_new, res\n",
    "\n",
    "        x = x_new\n",
    "\n",
    "    return x, res"
   ],
   "id": "ca2b74b99f85dde1",
   "outputs": [],
   "execution_count": 27
  },
  {
   "metadata": {},
   "cell_type": "markdown",
   "source": "# 加速近端梯度下降法求解Lasso回归问题",
   "id": "3fe4ffca1bf8dc5d"
  },
  {
   "metadata": {
    "ExecuteTime": {
     "end_time": "2024-06-02T12:59:32.849534Z",
     "start_time": "2024-06-02T12:59:32.836175Z"
    }
   },
   "cell_type": "code",
   "source": [
    "def apg_lasso(A, b, lambda_, max_iter=1000, tol=1e-5):\n",
    "    \"\"\"\n",
    "    使用加速近端梯度下降法（APG/FISTA）求解Lasso回归问题\n",
    "    :param A: 特征矩阵\n",
    "    :param b: 目标向量\n",
    "    :param lambda_: L1正则化参数\n",
    "    :param max_iter: 最大迭代次数\n",
    "    :param tol: 收敛容限\n",
    "    :return: 求解得到的权重向量x\n",
    "    \"\"\"\n",
    "    m, n = A.shape\n",
    "    # 初始化\n",
    "    x = np.zeros(n)\n",
    "    x_old = np.zeros(n)\n",
    "\n",
    "    # 计算梯度的Lipschitz常数\n",
    "    L = np.linalg.norm(A.T @ A)\n",
    "\n",
    "    res = []\n",
    "    for i in range(max_iter):\n",
    "        # 更新动量\n",
    "        v = x_old + (i - 2) * (x - x_old) / (i + 1)\n",
    "        # 近端梯度更新\n",
    "        gradient = A.T @ (A @ x - b)\n",
    "        x_new = soft_thresholding_operator(v - gradient / L, lambda_ / L)\n",
    "\n",
    "        res.append(check_kkt(x_new, A, b, lambda_))\n",
    "        if res[-1] <= tol:\n",
    "            return x_new, res\n",
    "        x_old = x\n",
    "        x = x_new\n",
    "    return x, res"
   ],
   "id": "c470cd5b046bc594",
   "outputs": [],
   "execution_count": 28
  },
  {
   "metadata": {
    "ExecuteTime": {
     "end_time": "2024-06-02T12:59:32.865030Z",
     "start_time": "2024-06-02T12:59:32.851405Z"
    }
   },
   "cell_type": "code",
   "source": [
    "# 数据生成\n",
    "np.random.seed(0)\n",
    "n_samples, n_features = 100, 10\n",
    "matrixA = np.random.randn(n_samples, n_features)\n",
    "true_coef = 3 * np.random.randn(n_features)\n",
    "# 将系数向量中的大部分元素设置为零，以模拟稀疏性\n",
    "true_coef[abs(true_coef) < 1] = 0\n",
    "b = np.dot(matrixA, true_coef) + np.random.normal(size=n_samples)"
   ],
   "id": "8de3bc45a4b0d0f8",
   "outputs": [],
   "execution_count": 29
  },
  {
   "metadata": {
    "ExecuteTime": {
     "end_time": "2024-06-02T12:59:46.389497Z",
     "start_time": "2024-06-02T12:59:46.369785Z"
    }
   },
   "cell_type": "code",
   "source": "print(true_coef)",
   "id": "c92edd50e03c0137",
   "outputs": [
    {
     "name": "stdout",
     "output_type": "stream",
     "text": [
      "[ 1.66788804  2.67742166 -1.26694447  0.          0.          0.\n",
      "  1.62232076 -5.45423289  0.          0.        ]\n"
     ]
    }
   ],
   "execution_count": 32
  },
  {
   "metadata": {
    "ExecuteTime": {
     "end_time": "2024-06-02T13:01:06.584619Z",
     "start_time": "2024-06-02T13:01:06.447959Z"
    }
   },
   "cell_type": "code",
   "source": [
    "from matplotlib import pyplot as plt\n",
    "\n",
    "x,res = apg_lasso(matrixA, b, 0.1)\n",
    "print(x)\n",
    "plt.plot(res)"
   ],
   "id": "f2f5dffa5cf186c1",
   "outputs": [
    {
     "name": "stdout",
     "output_type": "stream",
     "text": [
      "[ 1.71499648  2.61431173 -1.29190701  0.01910972  0.05663686  0.06575032\n",
      "  1.61186708 -5.47513283 -0.09482837  0.04347951]\n"
     ]
    },
    {
     "data": {
      "text/plain": [
       "[<matplotlib.lines.Line2D at 0x179186656f0>]"
      ]
     },
     "execution_count": 37,
     "metadata": {},
     "output_type": "execute_result"
    },
    {
     "data": {
      "text/plain": [
       "<Figure size 640x480 with 1 Axes>"
      ],
      "image/png": "[encoded data removed]"
     },
     "metadata": {},
     "output_type": "display_data"
    }
   ],
   "execution_count": 37
  },
  {
   "metadata": {
    "ExecuteTime": {
     "end_time": "2024-06-02T12:59:33.099752Z",
     "start_time": "2024-06-02T12:59:33.083704Z"
    }
   },
   "cell_type": "code",
   "source": "",
   "id": "fd6691a0497d00ad",
   "outputs": [],
   "execution_count": 31
  }
 ],
 "metadata": {
  "kernelspec": {
   "display_name": "Python 3",
   "language": "python",
   "name": "python3"
  },
  "language_info": {
   "codemirror_mode": {
    "name": "ipython",
    "version": 2
   },
   "file_extension": ".py",
   "mimetype": "text/x-python",
   "name": "python",
   "nbconvert_exporter": "python",
   "pygments_lexer": "ipython2",
   "version": "2.7.6"
  }
 },
 "nbformat": 4,
 "nbformat_minor": 5
}
