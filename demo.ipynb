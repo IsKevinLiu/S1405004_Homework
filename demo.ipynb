{
 "cells": [
  {
   "metadata": {
    "ExecuteTime": {
     "end_time": "2024-06-10T07:29:58.014808Z",
     "start_time": "2024-06-10T07:29:58.002018Z"
    }
   },
   "cell_type": "code",
   "source": [
    "import numpy as np\n",
    "\n",
    "\n",
    "# 软阈值算子\n",
    "def soft_thresholding_operator(x, lambda_):\n",
    "    \"\"\"\n",
    "    实现软阈值算子\n",
    "    :param x: 输入向量或标量\n",
    "    :param lambda_: 阈值参数\n",
    "    :return: 软阈值处理后的结果\n",
    "    \"\"\"\n",
    "    return np.sign(x) * np.maximum(0, np.abs(x) - lambda_)\n",
    "\n",
    "\n",
    "# KKT停机准则\n",
    "def check_kkt(x, A, b, lambda_):\n",
    "    \"\"\"验证Lasso问题的解是否满足KKT条件\"\"\"\n",
    "    y = x + A.T @ (b - A @ x)\n",
    "    return np.linalg.norm(soft_thresholding_operator(y, lambda_) - x, ord=2) / (1 + np.linalg.norm(x, ord=2))\n"
   ],
   "id": "7fc9a790cd9fbc80",
   "outputs": [],
   "execution_count": 28
  },
  {
   "metadata": {},
   "cell_type": "markdown",
   "source": "# 近端梯度下降法求解Lasso回归问题",
   "id": "2fc5a2a69cb25936"
  },
  {
   "metadata": {
    "ExecuteTime": {
     "end_time": "2024-06-10T07:29:58.076360Z",
     "start_time": "2024-06-10T07:29:58.064360Z"
    }
   },
   "cell_type": "code",
   "source": [
    "def pg_lasso(A, b, lambda_, max_iter=10000, tol=1e-5):\n",
    "    \"\"\"\n",
    "    使用近端梯度下降法求解Lasso回归问题\n",
    "    :param A: 特征矩阵\n",
    "    :param b: 目标向量\n",
    "    :param lambda_: L1正则化参数\n",
    "    :param max_iter: 最大迭代次数\n",
    "    :param tol: 收敛容限\n",
    "    :return: 求解得到的权重向量x\n",
    "    \"\"\"\n",
    "    # 初始化beta为零向量\n",
    "    x = np.zeros(A.shape[1])\n",
    "\n",
    "    # 计算梯度的Lipschitz常数\n",
    "    L = np.linalg.norm(A, ord=2) ** 2\n",
    "\n",
    "    res = []\n",
    "    # 迭代更新参数x\n",
    "    for _ in range(max_iter):\n",
    "        # 计算梯度\n",
    "        gradient = A.T @ (A @ x - b)\n",
    "\n",
    "        # 近端梯度更新\n",
    "        x_new = soft_thresholding_operator(x - gradient / L, lambda_ / L)\n",
    "\n",
    "        # 检查收敛性\n",
    "        res.append(check_kkt(x_new, A, b, lambda_))\n",
    "        if res[-1] <= tol:\n",
    "            return x_new, res\n",
    "\n",
    "        x = x_new\n",
    "\n",
    "    return x, res"
   ],
   "id": "ca2b74b99f85dde1",
   "outputs": [],
   "execution_count": 29
  },
  {
   "metadata": {},
   "cell_type": "markdown",
   "source": "# 加速近端梯度下降法求解Lasso回归问题",
   "id": "3fe4ffca1bf8dc5d"
  },
  {
   "metadata": {
    "ExecuteTime": {
     "end_time": "2024-06-10T07:29:58.107210Z",
     "start_time": "2024-06-10T07:29:58.080361Z"
    }
   },
   "cell_type": "code",
   "source": [
    "def apg_lasso(A, b, lambda_, max_iter=10000, tol=1e-5):\n",
    "    \"\"\"\n",
    "    使用加速近端梯度下降法（APG/FISTA）求解Lasso回归问题\n",
    "    :param A: 特征矩阵\n",
    "    :param b: 目标向量\n",
    "    :param lambda_: L1正则化参数\n",
    "    :param max_iter: 最大迭代次数\n",
    "    :param tol: 收敛容限\n",
    "    :return: 求解得到的权重向量x\n",
    "    \"\"\"\n",
    "    m, n = A.shape\n",
    "    # 初始化\n",
    "    x = np.zeros(n)\n",
    "    v = np.zeros(n)\n",
    "    # 计算梯度的Lipschitz常数\n",
    "    L = np.linalg.norm(A, ord=2) ** 2\n",
    "    t = 1\n",
    "    res = []\n",
    "    for i in range(max_iter):\n",
    "        # 近端梯度更新\n",
    "        gradient = A.T @ (A @ x - b)\n",
    "        x_new = soft_thresholding_operator(v - gradient / L, lambda_ / L)\n",
    "\n",
    "        # 更新动量\n",
    "        t_new = (1 + np.sqrt(1 + 4 * t ** 2)) / 2\n",
    "        v = x_new + (t - 1) * (x_new - x) / t_new\n",
    "        t = t_new\n",
    "\n",
    "        res.append(check_kkt(x_new, A, b, lambda_))\n",
    "        if res[-1] <= tol:\n",
    "            return x_new, res\n",
    "        x = x_new\n",
    "    return x, res"
   ],
   "id": "c470cd5b046bc594",
   "outputs": [],
   "execution_count": 30
  },
  {
   "metadata": {},
   "cell_type": "markdown",
   "source": "# ADMM算法求解Lasso回归问题",
   "id": "34c074c438f848ef"
  },
  {
   "metadata": {
    "ExecuteTime": {
     "end_time": "2024-06-10T07:29:58.153343Z",
     "start_time": "2024-06-10T07:29:58.112248Z"
    }
   },
   "cell_type": "code",
   "source": [
    "def admm_lasso(A, b, lambda_, rho, max_iter=1000, tol=1e-5):\n",
    "    \"\"\"\n",
    "    使用ADMM算法求解Lasso回归问题\n",
    "    :param A: 特征矩阵\n",
    "    :param b: 目标向量\n",
    "    :param lambda_: L1正则化参数\n",
    "    :param rho:\n",
    "    :param max_iter: 最大迭代次数\n",
    "    :param tol: 收敛容限\n",
    "    :return: 求解得到的权重向量x\n",
    "    \"\"\"\n",
    "    m, n = A.shape\n",
    "    x = np.zeros(n)\n",
    "    z = np.zeros(n)\n",
    "    u = np.zeros(n)  # Lagrange multiplier\n",
    "    res = []\n",
    "    for _ in range(max_iter):\n",
    "        x = np.linalg.solve(A.T @ A + rho * np.eye(n), A.T @ b + rho * z - u)\n",
    "        z = soft_thresholding_operator(x + u / rho, lambda_ / rho)\n",
    "        u += x - z\n",
    "        res.append(check_kkt(x, A, b, lambda_))\n",
    "        if res[-1] <= tol:\n",
    "            return x, res\n",
    "\n",
    "    return x, res\n"
   ],
   "id": "e4e9d0745f3c71d7",
   "outputs": [],
   "execution_count": 31
  },
  {
   "metadata": {},
   "cell_type": "markdown",
   "source": "# 数值模拟",
   "id": "3b1b187c88361432"
  },
  {
   "metadata": {
    "ExecuteTime": {
     "end_time": "2024-06-10T07:31:53.320157Z",
     "start_time": "2024-06-10T07:31:53.313067Z"
    }
   },
   "cell_type": "code",
   "source": [
    "# 数据生成\n",
    "# np.random.seed(0)\n",
    "n_samples, n_features = 10, 1000\n",
    "matrixA = np.random.randn(n_samples, n_features)\n",
    "true_coef = 3 * np.random.randn(n_features)\n",
    "# # 将系数向量中的大部分元素设置为零，以模拟稀疏性\n",
    "# true_coef[abs(true_coef) < 1] = 0\n",
    "vectorb = np.dot(matrixA, true_coef) + np.random.normal(size=n_samples)"
   ],
   "id": "8de3bc45a4b0d0f8",
   "outputs": [],
   "execution_count": 40
  },
  {
   "metadata": {
    "ExecuteTime": {
     "end_time": "2024-06-10T07:34:48.251103Z",
     "start_time": "2024-06-10T07:31:53.825698Z"
    }
   },
   "cell_type": "code",
   "source": [
    "from matplotlib import pyplot as plt\n",
    "import time\n",
    "\n",
    "time_1 = time.time()\n",
    "x, res = pg_lasso(matrixA, vectorb, 0.4, max_iter=100000)\n",
    "time_2 = time.time()\n",
    "print('PG res:', res[-1])\n",
    "print('PG:', len(res))\n",
    "print('PG time:', time_2 - time_1)\n",
    "plt.semilogy(res, label='PG')\n",
    "\n",
    "time_1 = time.time()\n",
    "x, res = apg_lasso(matrixA, vectorb, 0.4, max_iter=100000)\n",
    "time_2 = time.time()\n",
    "print('APG res:', res[-1])\n",
    "print('APG:', len(res))\n",
    "print('APG time:', time_2 - time_1)\n",
    "plt.semilogy(res, label='APG')\n",
    "\n",
    "time_1 = time.time()\n",
    "x, res = admm_lasso(matrixA, vectorb, 0.4, 1, max_iter=100000)\n",
    "time_2 = time.time()\n",
    "print('ADMM res:', res[-1])\n",
    "print('ADMM:', len(res))\n",
    "print('ADMM time:', time_2 - time_1)\n",
    "plt.semilogy(res, label='ADMM')\n",
    "\n",
    "plt.legend()\n",
    "plt.show()"
   ],
   "id": "f2f5dffa5cf186c1",
   "outputs": [
    {
     "name": "stdout",
     "output_type": "stream",
     "text": [
      "PG res: 0.006741154232849468\n",
      "PG: 100000\n",
      "PG time: 4.606017827987671\n",
      "APG res: 9.67867512785009e-06\n",
      "APG: 39848\n",
      "APG time: 2.118234872817993\n",
      "ADMM res: 9.988807747623266e-06\n",
      "ADMM: 4881\n",
      "ADMM time: 167.03486347198486\n"
     ]
    },
    {
     "data": {
      "text/plain": [
       "<Figure size 640x480 with 1 Axes>"
      ],
      "image/png": "[encoded data removed]"
     },
     "metadata": {},
     "output_type": "display_data"
    }
   ],
   "execution_count": 41
  },
  {
   "metadata": {
    "ExecuteTime": {
     "end_time": "2024-06-10T07:30:03.007581Z",
     "start_time": "2024-06-10T07:30:02.996854Z"
    }
   },
   "cell_type": "code",
   "source": "",
   "id": "b9b92f2d36977dea",
   "outputs": [],
   "execution_count": 33
  }
 ],
 "metadata": {
  "kernelspec": {
   "display_name": "Python 3",
   "language": "python",
   "name": "python3"
  },
  "language_info": {
   "codemirror_mode": {
    "name": "ipython",
    "version": 2
   },
   "file_extension": ".py",
   "mimetype": "text/x-python",
   "name": "python",
   "nbconvert_exporter": "python",
   "pygments_lexer": "ipython2",
   "version": "2.7.6"
  }
 },
 "nbformat": 4,
 "nbformat_minor": 5
}
